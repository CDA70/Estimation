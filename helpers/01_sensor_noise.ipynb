{
 "cells": [
  {
   "cell_type": "code",
   "execution_count": 1,
   "metadata": {
    "collapsed": true
   },
   "outputs": [],
   "source": [
    "import numpy as np"
   ]
  },
  {
   "cell_type": "code",
   "execution_count": 16,
   "metadata": {},
   "outputs": [],
   "source": [
    "gps_x = np.loadtxt('Graph1.txt',dtype='Float64',delimiter=',',skiprows=1)[:,1]\n",
    "imu_accel_x = np.loadtxt('Graph2.txt',dtype='Float64',delimiter=',',skiprows=1)[:,1]"
   ]
  },
  {
   "cell_type": "code",
   "execution_count": 21,
   "metadata": {},
   "outputs": [
    {
     "name": "stdout",
     "output_type": "stream",
     "text": [
      "GPS X Deviation:  0.712111133351\n",
      "GPS X mean:  -0.0162362666667\n",
      "GPS X covariance:  0.5128000445142876\n"
     ]
    }
   ],
   "source": [
    "gps_x_deviation = np.std(gps_x)\n",
    "gps_x_mean = np.mean(gps_x)\n",
    "gps_x_covariance = np.cov(gps_x)\n",
    "print('GPS X Deviation: ', gps_x_deviation)\n",
    "print('GPS X mean: ', gps_x_mean)\n",
    "print('GPS X covariance: ', gps_x_covariance)\n"
   ]
  },
  {
   "cell_type": "code",
   "execution_count": 23,
   "metadata": {},
   "outputs": [
    {
     "name": "stdout",
     "output_type": "stream",
     "text": [
      "IMU acceleration X Deviation:  0.509517853458\n",
      "IMU acceleration X mean:  -0.000955089108911\n",
      "IMU acceleration X covariance:  0.259751320506724\n"
     ]
    }
   ],
   "source": [
    "imu_acceleration_x_deviation = np.std(imu_accel_x)\n",
    "imu_acceleration_x_mean = np.mean(imu_accel_x)\n",
    "imu_acceleration_x_covariance = np.cov(imu_accel_x)\n",
    "print('IMU acceleration X Deviation: ', imu_acceleration_x_deviation)\n",
    "print('IMU acceleration X mean: ', imu_acceleration_x_mean)\n",
    "print('IMU acceleration X covariance: ', imu_acceleration_x_covariance)"
   ]
  }
 ],
 "metadata": {
  "kernelspec": {
   "display_name": "Python 3",
   "language": "python",
   "name": "python3"
  },
  "language_info": {
   "codemirror_mode": {
    "name": "ipython",
    "version": 3
   },
   "file_extension": ".py",
   "mimetype": "text/x-python",
   "name": "python",
   "nbconvert_exporter": "python",
   "pygments_lexer": "ipython3",
   "version": "3.6.3"
  }
 },
 "nbformat": 4,
 "nbformat_minor": 2
}
